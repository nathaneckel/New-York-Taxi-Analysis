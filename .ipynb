{
 "cells": [
  {
   "cell_type": "markdown",
   "metadata": {},
   "source": [
    "0 - Import Libraries\n",
    "1 - Import Data\n",
    "2 - Data Explore\n",
    "3 - Data Clean\n",
    "4 - Data Prep\n",
    "5 - Benchmark Model\n",
    "6 - Feature Engineering\n",
    "7 - Model Training\n",
    "    - Decision Tree\n",
    "    - Random Forest\n",
    "    - Compare Algorithm Performances\n",
    "8 - Tuning"
   ]
  }
 ],
 "metadata": {
  "kernelspec": {
   "display_name": "Python 3",
   "language": "python",
   "name": "python3"
  },
  "language_info": {
   "codemirror_mode": {
    "name": "ipython",
    "version": 3
   },
   "file_extension": ".py",
   "mimetype": "text/x-python",
   "name": "python",
   "nbconvert_exporter": "python",
   "pygments_lexer": "ipython3",
   "version": "3.8.3"
  }
 },
 "nbformat": 4,
 "nbformat_minor": 4
}
